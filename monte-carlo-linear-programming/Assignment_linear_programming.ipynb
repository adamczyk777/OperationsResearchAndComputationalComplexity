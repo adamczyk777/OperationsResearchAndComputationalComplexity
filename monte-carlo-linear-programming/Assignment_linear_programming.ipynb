{
 "cells": [
  {
   "cell_type": "markdown",
   "metadata": {},
   "source": [
    "# Linear Programming"
   ]
  },
  {
   "cell_type": "markdown",
   "metadata": {},
   "source": [
    "## Some declarations"
   ]
  },
  {
   "cell_type": "code",
   "execution_count": 8,
   "metadata": {},
   "outputs": [],
   "source": [
    "import random"
   ]
  },
  {
   "cell_type": "code",
   "execution_count": 9,
   "metadata": {},
   "outputs": [],
   "source": [
    "# Equations\n",
    "eqs = [\n",
    "\"(16*x1 + 24*x2) <= 96000\",\n",
    "\"(16*x1 + 10*x2) <= 80000\",\n",
    "\"x1 <= 3000 and x1 >= 0\",\n",
    "\"x2 <= 4000 and x2 >= 0\"\n",
    "]"
   ]
  },
  {
   "cell_type": "code",
   "execution_count": 10,
   "metadata": {},
   "outputs": [],
   "source": [
    "# optimization subject\n",
    "opt = \"30*x1 + 40*x2\""
   ]
  },
  {
   "cell_type": "code",
   "execution_count": 11,
   "metadata": {},
   "outputs": [],
   "source": [
    "# declare variables\n",
    "x1, x2 = 0, 0\n",
    "b_x1, b_x2 = 0, 0\n",
    "b_result = 0\n",
    "result = None"
   ]
  },
  {
   "cell_type": "code",
   "execution_count": 12,
   "metadata": {},
   "outputs": [],
   "source": [
    "def all_true(eq_list):\n",
    "    for eq in eq_list:\n",
    "        if (not eval(eq)):\n",
    "            return False\n",
    "    return True"
   ]
  },
  {
   "cell_type": "markdown",
   "metadata": {},
   "source": [
    "## Now the main loop that is going to randomize stuff"
   ]
  },
  {
   "cell_type": "code",
   "execution_count": 14,
   "metadata": {},
   "outputs": [],
   "source": [
    "for i in range(1000000):\n",
    "    x1 = random.uniform(0, 3000)\n",
    "    x2 = 2/3 * x1\n",
    "    if(eval(eqs[0]) and eval(eqs[1]) and eval(eqs[2]) and eval(eqs[3])):\n",
    "        result = eval(opt)\n",
    "        if result > b_result:\n",
    "            b_result = result\n",
    "            b_x1 = x1\n",
    "            b_x2 = x2\n",
    "    "
   ]
  },
  {
   "cell_type": "code",
   "execution_count": 15,
   "metadata": {},
   "outputs": [
    {
     "name": "stdout",
     "output_type": "stream",
     "text": [
      "2999.998589203785 1999.99905946919\n"
     ]
    }
   ],
   "source": [
    "print(b_x1, b_x2)"
   ]
  },
  {
   "cell_type": "code",
   "execution_count": null,
   "metadata": {},
   "outputs": [],
   "source": []
  }
 ],
 "metadata": {
  "kernelspec": {
   "display_name": "Python 3",
   "language": "python",
   "name": "python3"
  },
  "language_info": {
   "codemirror_mode": {
    "name": "ipython",
    "version": 3
   },
   "file_extension": ".py",
   "mimetype": "text/x-python",
   "name": "python",
   "nbconvert_exporter": "python",
   "pygments_lexer": "ipython3",
   "version": "3.6.4"
  }
 },
 "nbformat": 4,
 "nbformat_minor": 2
}

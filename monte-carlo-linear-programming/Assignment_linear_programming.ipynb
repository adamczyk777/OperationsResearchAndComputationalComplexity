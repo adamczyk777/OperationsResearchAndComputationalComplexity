{
 "cells": [
  {
   "cell_type": "markdown",
   "metadata": {},
   "source": [
    "# Linear Programming"
   ]
  },
  {
   "cell_type": "markdown",
   "metadata": {},
   "source": [
    "## Some declarations"
   ]
  },
  {
   "cell_type": "code",
   "execution_count": 365,
   "metadata": {},
   "outputs": [],
   "source": [
    "import random\n",
    "import numpy as np"
   ]
  },
  {
   "cell_type": "code",
   "execution_count": 366,
   "metadata": {},
   "outputs": [],
   "source": [
    "# how much variables do we have in this problem\n",
    "variables_count = 4"
   ]
  },
  {
   "cell_type": "code",
   "execution_count": 380,
   "metadata": {},
   "outputs": [],
   "source": [
    "# constraint Equations\n",
    "eqs = [\n",
    "\"x1 + 2 * x2 + 1.5 * x3 + 6 * x4 <= 90000\",\n",
    "\"2 * x1 + 2 * x2 + 1.5 * x3 + 4 * x4 <= 120000\",\n",
    "\"x1 >= 0\",\n",
    "\"x2 >= 0\",\n",
    "\"x3 >= 0\",\n",
    "\"x4 >= 0\"\n",
    "]"
   ]
  },
  {
   "cell_type": "code",
   "execution_count": 381,
   "metadata": {},
   "outputs": [],
   "source": [
    "operations_available = {\n",
    "    \"sin\": \"np.sin\",\n",
    "    \"cos\": \"np.cos\",\n",
    "    \"log\": \"np.log\"\n",
    "}"
   ]
  },
  {
   "cell_type": "code",
   "execution_count": 382,
   "metadata": {},
   "outputs": [],
   "source": [
    "# Define whether we maximize or minimize\n",
    "isMax = True"
   ]
  },
  {
   "cell_type": "code",
   "execution_count": 383,
   "metadata": {},
   "outputs": [],
   "source": [
    "# optimization subject\n",
    "opt = \"4 * x1 + 6 * x2 + 3 * x3 + 0 * x4 + 12\""
   ]
  },
  {
   "cell_type": "code",
   "execution_count": 384,
   "metadata": {},
   "outputs": [],
   "source": [
    "radiuses = [80000,70000,60000,50000,40000,20000,10000, 5000, 2500, 1000, 500, 250, 100, 50, 25, 10, 5]"
   ]
  },
  {
   "cell_type": "code",
   "execution_count": 385,
   "metadata": {},
   "outputs": [],
   "source": [
    "# function to replace for list values\n",
    "def replace_with_values(equation, variables_count):\n",
    "    for i in range(variables_count):\n",
    "        equation = equation.replace(\"x\" + str(i + 1), \"x[\" + str(i) + \"]\")\n",
    "    return equation"
   ]
  },
  {
   "cell_type": "code",
   "execution_count": 386,
   "metadata": {},
   "outputs": [],
   "source": [
    "# function t check if all conditions were met\n",
    "def all_true(eq_list):\n",
    "    for eq in eq_list:\n",
    "        if (not eval(eq)):\n",
    "            return False\n",
    "    return True"
   ]
  },
  {
   "cell_type": "code",
   "execution_count": 387,
   "metadata": {},
   "outputs": [],
   "source": [
    "def init_randomize_list(eq_list):\n",
    "    result_list = []\n",
    "    for el in eq_list:\n",
    "        el = random.uniform(0, 120000)\n",
    "        result_list.append(el)\n",
    "    return result_list"
   ]
  },
  {
   "cell_type": "code",
   "execution_count": 388,
   "metadata": {},
   "outputs": [],
   "source": [
    "def randomize_with_radius(xs, max_xs, radius):\n",
    "    result_list = []\n",
    "    for el, max_el in zip(xs, max_xs):\n",
    "        el = np.random.uniform(max_el - radius, max_el + radius)\n",
    "        result_list.append(el)\n",
    "    return result_list"
   ]
  },
  {
   "cell_type": "code",
   "execution_count": 389,
   "metadata": {},
   "outputs": [
    {
     "name": "stdout",
     "output_type": "stream",
     "text": [
      "x1 + 2 * x2 + 1.5 * x3 + 6 * x4 <= 90000\n",
      "2 * x1 + 2 * x2 + 1.5 * x3 + 4 * x4 <= 120000\n",
      "x1 >= 0\n",
      "x2 >= 0\n",
      "x3 >= 0\n",
      "x4 >= 0\n",
      "['x[0] + 2 * x[1] + 1.5 * x[2] + 6 * x[3] <= 90000', '2 * x[0] + 2 * x[1] + 1.5 * x[2] + 4 * x[3] <= 120000', 'x[0] >= 0', 'x[1] >= 0', 'x[2] >= 0', 'x[3] >= 0']\n",
      "4 * x[0] + 6 * x[1] + 3 * x[2] + 0 * x[3] + 12\n"
     ]
    }
   ],
   "source": [
    "# prepare eqs to be list applicable also prepare opt\n",
    "res_eqs = []\n",
    "for eq in eqs:\n",
    "    print(eq)\n",
    "    eq = replace_with_values(eq, variables_count)\n",
    "    res_eqs.append(eq)\n",
    "eqs = res_eqs\n",
    "opt = replace_with_values(opt, variables_count)\n",
    "print(eqs)\n",
    "print(opt)"
   ]
  },
  {
   "cell_type": "code",
   "execution_count": 390,
   "metadata": {},
   "outputs": [],
   "source": [
    "x = [None] * variables_count\n",
    "max_x = [0] * variables_count\n",
    "result = None\n",
    "max_result = 0"
   ]
  },
  {
   "cell_type": "markdown",
   "metadata": {},
   "source": [
    "## Now the main loop that is going to randomize stuff"
   ]
  },
  {
   "cell_type": "code",
   "execution_count": 391,
   "metadata": {},
   "outputs": [
    {
     "name": "stdout",
     "output_type": "stream",
     "text": [
      "['x[0] + 2 * x[1] + 1.5 * x[2] + 6 * x[3] <= 90000', '2 * x[0] + 2 * x[1] + 1.5 * x[2] + 4 * x[3] <= 120000', 'x[0] >= 0', 'x[1] >= 0', 'x[2] >= 0', 'x[3] >= 0'] 4 * x[0] + 6 * x[1] + 3 * x[2] + 0 * x[3] + 12\n"
     ]
    }
   ],
   "source": [
    "# first randomize\n",
    "print(eqs, opt)\n",
    "x = init_randomize_list(x)\n",
    "while not all_true(eqs):\n",
    "    x = init_randomize_list(x)\n",
    "result = eval(opt)\n",
    "max_result = result\n",
    "max_x = list.copy(x)\n",
    "    \n",
    "# loop with radiuses\n",
    "for radius in radiuses:\n",
    "    for n in range(10000):\n",
    "        x = randomize_with_radius(x, max_x, radius)\n",
    "        if all_true(eqs):\n",
    "            result = eval(opt)\n",
    "            if result > max_result:\n",
    "                max_result = result\n",
    "                max_x = list.copy(x)\n",
    "\n",
    "\n",
    "# for i in range(1000000):\n",
    "#     x1 = random.uniform(0, 3000)\n",
    "#     x2 = 2/3 * x1\n",
    "#     if(eval(eqs[0]) and eval(eqs[1]) and eval(eqs[2]) and eval(eqs[3])):\n",
    "#         result = eval(opt)\n",
    "#         if result > b_result:\n",
    "#             b_result = result\n",
    "#             b_x1 = x1\n",
    "#             b_x2 = x2"
   ]
  },
  {
   "cell_type": "code",
   "execution_count": 392,
   "metadata": {},
   "outputs": [
    {
     "name": "stdout",
     "output_type": "stream",
     "text": [
      "[29998.357191441508, 29999.80250467181, 1.2467819557159485, 0.014433722752586142] 300007.98413966404\n"
     ]
    }
   ],
   "source": [
    "print(max_x, max_result)"
   ]
  },
  {
   "cell_type": "code",
   "execution_count": null,
   "metadata": {},
   "outputs": [],
   "source": []
  }
 ],
 "metadata": {
  "kernelspec": {
   "display_name": "Python 3",
   "language": "python",
   "name": "python3"
  },
  "language_info": {
   "codemirror_mode": {
    "name": "ipython",
    "version": 3
   },
   "file_extension": ".py",
   "mimetype": "text/x-python",
   "name": "python",
   "nbconvert_exporter": "python",
   "pygments_lexer": "ipython3",
   "version": "3.6.4"
  }
 },
 "nbformat": 4,
 "nbformat_minor": 2
}
